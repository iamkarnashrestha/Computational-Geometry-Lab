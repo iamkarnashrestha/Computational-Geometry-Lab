{
 "cells": [
  {
   "cell_type": "code",
   "execution_count": 4,
   "metadata": {},
   "outputs": [
    {
     "name": "stdout",
     "output_type": "stream",
     "text": [
      "[(2, 1), (5, 2)] 12\n"
     ]
    },
    {
     "data": {
      "image/png": "[encoded data removed]",
      "text/plain": [
       "<Figure size 432x288 with 1 Axes>"
      ]
     },
     "metadata": {
      "needs_background": "light"
     },
     "output_type": "display_data"
    }
   ],
   "source": [
    "import matplotlib.pyplot as plt\n",
    "import math\n",
    "import copy\n",
    "import numpy as np\n",
    "class Point: \n",
    "    def __init__(self, x, y): \n",
    "        self.x = x \n",
    "        self.y = y\n",
    "\n",
    "def turntest(A,B,P):       \n",
    "    c=copy.deepcopy(B)\n",
    "    d=copy.deepcopy(P)\n",
    "    c.x -= A.x \n",
    "    c.y -= A.y \n",
    "    d.x -= A.x \n",
    "    d.y -= A.y \n",
    "    cross_product = c.x * d.y - c.y * d.x  \n",
    "    if (cross_product > 0): \n",
    "        return 1\n",
    "    elif (cross_product < 0): \n",
    "        return -1\n",
    "    else:\n",
    "        return 0\n",
    "    \n",
    "def GrahamScan(pointlist):\n",
    "    \n",
    "    tuplelist=[]\n",
    "    for i in range (0,len(pointlist)):\n",
    "        tuplelist.append((pointlist[i].x,pointlist[i].y)) \n",
    "    cent=min(tuplelist, key = lambda t: t[1])\n",
    "    tuplelist.sort(key=lambda p: math.atan2(p[1]-cent[1],p[0]-cent[0]))\n",
    "    convex_hull=[]\n",
    "    convex_hull.append(tuplelist[0])\n",
    "    convex_hull.append(tuplelist[1])\n",
    "    print(convex_hull,len(tuplelist))\n",
    "    i=2\n",
    "    while(i<len(tuplelist)):\n",
    "        a=Point(convex_hull[-2][0],convex_hull[-2][1])\n",
    "        b=Point(convex_hull[-1][0],convex_hull[-1][1])\n",
    "        c=Point(tuplelist[i][0],tuplelist[i][1])\n",
    "#         print((a.x,a.y),(b.x,b.y),(c.x,c.y))\n",
    "        if turntest(a,b,c)==1:\n",
    "            convex_hull.append(tuplelist[i])\n",
    "            i=i+1\n",
    "        else:\n",
    "            convex_hull.pop()\n",
    "#     print(convex_hull)\n",
    "    convex_hull.append(convex_hull[0])\n",
    "    xs, ys = zip(*convex_hull) \n",
    "    plt.figure()\n",
    "    plt.plot(xs,ys)\n",
    "\n",
    "\n",
    "pointlist = []\n",
    "pointlist.append( Point(1,2) )\n",
    "pointlist.append( Point(2,1) )\n",
    "pointlist.append( Point(1,3) )\n",
    "pointlist.append( Point(2,2) )\n",
    "pointlist.append( Point(3,4) )\n",
    "pointlist.append( Point(2,4) )\n",
    "pointlist.append( Point(6,3) )\n",
    "pointlist.append( Point(4,3) )\n",
    "pointlist.append( Point(5,2) )\n",
    "pointlist.append( Point(3,3) )\n",
    "pointlist.append( Point(4,4) )\n",
    "pointlist.append( Point(0,1) )\n",
    "\n",
    "\n",
    "\n",
    "GrahamScan(pointlist)\n",
    "for obj in pointlist:\n",
    "    plt.scatter(obj.x, obj.y)\n",
    "    plt.annotate((obj.x,obj.y), (obj.x, obj.y + 0.2))\n",
    "    "
   ]
  }
 ],
 "metadata": {
  "kernelspec": {
   "display_name": "Python 3",
   "language": "python",
   "name": "python3"
  },
  "language_info": {
   "codemirror_mode": {
    "name": "ipython",
    "version": 3
   },
   "file_extension": ".py",
   "mimetype": "text/x-python",
   "name": "python",
   "nbconvert_exporter": "python",
   "pygments_lexer": "ipython3",
   "version": "3.7.6"
  }
 },
 "nbformat": 4,
 "nbformat_minor": 4
}
