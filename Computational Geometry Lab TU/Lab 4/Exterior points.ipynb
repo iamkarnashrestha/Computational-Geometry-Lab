{
 "cells": [
  {
   "cell_type": "code",
   "execution_count": 1,
   "metadata": {},
   "outputs": [
    {
     "name": "stdout",
     "output_type": "stream",
     "text": [
      "[(1, 2), (2, 1), (3, 1), (5, 2), (6, 3), (3, 4), (2, 4), (1, 3), (1, 2)]\n"
     ]
    },
    {
     "data": {
      "image/png": "[encoded data removed]",
      "text/plain": [
       "<Figure size 432x288 with 1 Axes>"
      ]
     },
     "metadata": {
      "needs_background": "light"
     },
     "output_type": "display_data"
    }
   ],
   "source": [
    "import matplotlib.pyplot as plt\n",
    "import math\n",
    "import copy\n",
    "import numpy as np\n",
    "class Point: \n",
    "    def __init__(self, x, y): \n",
    "        self.x = x \n",
    "        self.y = y\n",
    "\n",
    "def turntest(A,B,P):       \n",
    "    c=copy.deepcopy(B)\n",
    "    d=copy.deepcopy(P)\n",
    "    c.x -= A.x \n",
    "    c.y -= A.y \n",
    "    d.x -= A.x \n",
    "    d.y -= A.y \n",
    "    cross_product = c.x * d.y - c.y * d.x  \n",
    "    if (cross_product > 0): \n",
    "        return 1\n",
    "    elif (cross_product < 0): \n",
    "        return -1\n",
    "    else:\n",
    "        return 0\n",
    "    \n",
    "def findextremepoint(pointlist):\n",
    "    innerpoints=[]\n",
    "    tuplelist=[]\n",
    "    i=j=k=l=0\n",
    "    for i in range (0,len(pointlist)):\n",
    "        tuplelist.append((pointlist[i].x,pointlist[i].y))\n",
    "        Pi=pointlist[i]\n",
    "        for j in range (0,len(pointlist)):\n",
    "            if j==i:\n",
    "                continue\n",
    "            Pj=pointlist[j]\n",
    "            for k in range (0,len(pointlist)):\n",
    "                if k==j or k==i:\n",
    "                    continue\n",
    "                Pk=pointlist[k]\n",
    "                for l in range (0,len(pointlist)):\n",
    "                    if l==i or l==j or i==k:\n",
    "                        continue\n",
    "                    Pl=pointlist[l]\n",
    "                    a=copy.deepcopy(Pi)\n",
    "                    b=copy.deepcopy(Pj)\n",
    "                    c=copy.deepcopy(Pk)\n",
    "                    d=copy.deepcopy(Pl)\n",
    "                    if turntest(a,b,c)==0:\n",
    "                        continue\n",
    "                    elif turntest(a,b,d)==turntest(b,c,d) and turntest(a,b,d)==turntest(c,a,d):\n",
    "                        innerpoints.append((pointlist[l].x,pointlist[l].y))\n",
    "                    else:\n",
    "                        continue\n",
    "    return innerpoints,tuplelist\n",
    "\n",
    "def Diff(li1, li2):\n",
    "    return list(set(li1) - set(li2)) + list(set(li2) - set(li1))\n",
    "\n",
    "pointlist = [] \n",
    "pointlist.append( Point(1,2) )\n",
    "pointlist.append( Point(2,1) )\n",
    "pointlist.append( Point(3,1) )\n",
    "pointlist.append( Point(1,3) )\n",
    "pointlist.append( Point(2,2) )\n",
    "pointlist.append( Point(3,4) )\n",
    "pointlist.append( Point(2,4) )\n",
    "pointlist.append( Point(6,3) )\n",
    "pointlist.append( Point(4,3) )\n",
    "pointlist.append( Point(5,2) )\n",
    "pointlist.append( Point(3,3) )\n",
    "\n",
    "\n",
    "newlist=findextremepoint(pointlist)\n",
    "# print(newlist)\n",
    "ep=Diff(newlist[0],newlist[1])\n",
    "# print(ep)\n",
    "cent=(sum([p[0] for p in ep])/len(ep),sum([p[1] for p in ep])/len(ep))\n",
    "# sort by polar angle\n",
    "ep.sort(key=lambda p: math.atan2(p[1]-cent[1],p[0]-cent[0]))\n",
    "convex_hull=copy.deepcopy(ep)\n",
    "convex_hull.append(convex_hull[0])\n",
    "print(convex_hull)\n",
    "xs, ys = zip(*convex_hull) #create s of x and y values\n",
    "plt.figure()\n",
    "plt.plot(xs,ys)\n",
    "for obj in pointlist:\n",
    "    plt.scatter(obj.x, obj.y)\n",
    "    plt.annotate((obj.x,obj.y), (obj.x, obj.y + 0.2))\n",
    "    "
   ]
  }
 ],
 "metadata": {
  "kernelspec": {
   "display_name": "Python 3",
   "language": "python",
   "name": "python3"
  },
  "language_info": {
   "codemirror_mode": {
    "name": "ipython",
    "version": 3
   },
   "file_extension": ".py",
   "mimetype": "text/x-python",
   "name": "python",
   "nbconvert_exporter": "python",
   "pygments_lexer": "ipython3",
   "version": "3.7.6"
  }
 },
 "nbformat": 4,
 "nbformat_minor": 4
}
