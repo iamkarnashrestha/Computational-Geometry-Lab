{
 "cells": [
  {
   "cell_type": "code",
   "execution_count": 1,
   "metadata": {},
   "outputs": [
    {
     "name": "stdout",
     "output_type": "stream",
     "text": [
      "Enter the x coordinate:1\n",
      "Enter the Y coordinate:1\n"
     ]
    },
    {
     "data": {
      "image/png": "[encoded data removed]",
      "text/plain": [
       "<Figure size 432x288 with 1 Axes>"
      ]
     },
     "metadata": {
      "needs_background": "light"
     },
     "output_type": "display_data"
    },
    {
     "name": "stdout",
     "output_type": "stream",
     "text": [
      "Enter points for linesegments\n",
      "Enter the x coordinate:1\n",
      "Enter the Y coordinate:2\n",
      "Enter the x coordinate:3\n",
      "Enter the Y coordinate:4\n"
     ]
    },
    {
     "data": {
      "image/png": "[encoded data removed]",
      "text/plain": [
       "<Figure size 432x288 with 1 Axes>"
      ]
     },
     "metadata": {
      "needs_background": "light"
     },
     "output_type": "display_data"
    },
    {
     "name": "stdout",
     "output_type": "stream",
     "text": [
      "Enter the end point of ray\n",
      "Enter the x coordinate:4\n",
      "Enter the Y coordinate:5\n",
      "Enter the point for which direction ray goes:\n",
      "Enter the x coordinate:6\n",
      "Enter the Y coordinate:\n",
      "Enter the maximum point:\n",
      "Enter the x coordinate:7\n",
      "Enter the Y coordinate:7\n"
     ]
    },
    {
     "data": {
      "image/png": "[encoded data removed]",
      "text/plain": [
       "<Figure size 432x288 with 1 Axes>"
      ]
     },
     "metadata": {
      "needs_background": "light"
     },
     "output_type": "display_data"
    }
   ],
   "source": [
    "import matplotlib.pyplot as plt\n",
    "class Point:\n",
    "    x=0\n",
    "    y=0\n",
    "    \n",
    "    def __init__(self): \n",
    "        self.x=input(\"Enter the x coordinate:\")\n",
    "        self.y=input(\"Enter the Y coordinate:\")      \n",
    "        \n",
    "    def Drawpoint(self):\n",
    "        plt.plot(self.x,self.y,'ro')\n",
    "        plt.show()\n",
    "p=Point()\n",
    "p.Drawpoint()\n",
    "\n",
    "# Class for linesegment\n",
    "class LineSegment(Point):\n",
    "   \n",
    "    \n",
    "    x_values=[0]\n",
    "    y_values=[0]\n",
    "    \n",
    "    def __init__(self):\n",
    "#         defining two points \n",
    "        print(\"Enter points for linesegments\")\n",
    "        p1=Point()\n",
    "        p2=Point()\n",
    "        self.x_values=[p1.x,p2.x]\n",
    "        self.y_values=[p1.y,p2.y]\n",
    "    \n",
    "    def DrawLineSegment(self):\n",
    "        \n",
    "        plt.plot(self.x_values,self.y_values)\n",
    "        plt.show()\n",
    "        \n",
    "#     creating object of Linesegment\n",
    "l=LineSegment()  \n",
    "l.DrawLineSegment()\n",
    "# A ray is a part of a line that has one endpoint and goes on infinitely in only one direction.\n",
    "#class for ray \n",
    "# the data structure will be  three points two for line segment and one for the constant point but in this program I am considering\n",
    "#considering the ray parallel to x-axis so the value of y coordinates will be same for all points.\n",
    "\n",
    "class Ray(Point):\n",
    "    x_values=[0]\n",
    "    y_values=[0]\n",
    "        \n",
    "    def __init__(self):\n",
    "        print(\"Enter the end point of ray\")\n",
    "        endpoint=Point()\n",
    "        print(\"Enter the point for which direction ray goes:\")\n",
    "        a=Point()    \n",
    "        print(\"Enter the maximum point:\")\n",
    "        m=Point()\n",
    "        self.x_values=[endpoint.x,a.x,m.x]\n",
    "        self.y_values=[endpoint.y,a.y,m.y]\n",
    "       \n",
    "    def DrawRay(self):\n",
    "        plt.plot(self.x_values,self.y_values)\n",
    "        plt.show()\n",
    "\n",
    "r=Ray()   \n",
    "r.DrawRay()\n",
    "\n",
    "\n",
    "    "
   ]
  }
 ],
 "metadata": {
  "kernelspec": {
   "display_name": "Python 3",
   "language": "python",
   "name": "python3"
  },
  "language_info": {
   "codemirror_mode": {
    "name": "ipython",
    "version": 3
   },
   "file_extension": ".py",
   "mimetype": "text/x-python",
   "name": "python",
   "nbconvert_exporter": "python",
   "pygments_lexer": "ipython3",
   "version": "3.7.6"
  }
 },
 "nbformat": 4,
 "nbformat_minor": 4
}
