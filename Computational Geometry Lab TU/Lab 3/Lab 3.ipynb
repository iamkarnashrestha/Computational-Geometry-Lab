{
 "cells": [
  {
   "cell_type": "code",
   "execution_count": 2,
   "metadata": {},
   "outputs": [
    {
     "name": "stdout",
     "output_type": "stream",
     "text": [
      "Enter the x coordinate:3\n",
      "Enter the Y coordinate:2\n",
      "Enter the x coordinate:4\n",
      "Enter the Y coordinate:5\n",
      "Enter the x coordinate:3\n",
      "Enter the Y coordinate:2\n",
      "Enter the x coordinate:1\n",
      "Enter the Y coordinate:2\n"
     ]
    },
    {
     "data": {
      "image/png": "[encoded data removed]",
      "text/plain": [
       "<Figure size 432x288 with 1 Axes>"
      ]
     },
     "metadata": {
      "needs_background": "light"
     },
     "output_type": "display_data"
    }
   ],
   "source": [
    "import matplotlib.pyplot as plt\n",
    "class Point:\n",
    "    x=0\n",
    "    y=0\n",
    "    \n",
    "    def __init__(self): \n",
    "        self.x=float(input(\"Enter the x coordinate:\"))\n",
    "        self.y=float(input(\"Enter the Y coordinate:\"))\n",
    "        \n",
    "        \n",
    "def Betweenness(p, q, r):\n",
    "    if ( (q.x <= max(p.x, r.x)) and (q.x >= min(p.x, r.x)) and \n",
    "           (q.y <= max(p.y, r.y)) and (q.y >= min(p.y, r.y))):\n",
    "        return True\n",
    "    return False\n",
    "  \n",
    "def checkOrientation(p, q, r):      \n",
    "    val = (float(q.y - p.y) * (r.x - q.x)) - (float(q.x - p.x) * (r.y - q.y))\n",
    "    if (val > 0):\n",
    "        return 1  #cloclwise orientiation\n",
    "    elif (val < 0):\n",
    "        return 2 #counter clockwise orientation\n",
    "    else:\n",
    "        return 0 #colinear orientation\n",
    "\n",
    "def checkIntersection(p1,q1,p2,q2):\n",
    "    global intersectionresult\n",
    "    global improper\n",
    "    o1 = checkOrientation(p1, q1, p2)\n",
    "    o2 = checkOrientation(p1, q1, q2)\n",
    "    o3 = checkOrientation(p2, q2, p1)\n",
    "    o4 = checkOrientation(p2, q2, q1)\n",
    "    if ((o1 != o2) and (o3 != o4)):\n",
    "        if(o1==0 or o2==0 or o3==0 or o4==0):\n",
    "            intersectionresult=True\n",
    "            improper=True\n",
    "        else:\n",
    "            intersectionresult=True\n",
    "            improper=False\n",
    "        return True\n",
    "    if ((o1 == 0) or (o2 == 0) or (o3 == 0) or (o4 == 0)  and Betweenness(p1, p2, q1)):\n",
    "        intersectionresult=True\n",
    "        improper=True\n",
    "        return True\n",
    "\n",
    "    intersectionresult=False\n",
    "    improper=None\n",
    "    return False\n",
    "\n",
    "p1=Point()\n",
    "q1=Point()\n",
    "p2=Point()\n",
    "q2=Point()\n",
    "\n",
    "pointlist1=[p1,q1]\n",
    "pointlist2=[p2,q2] \n",
    "xp=list()\n",
    "yp=list()\n",
    "xq=list()\n",
    "yq=list()\n",
    "\n",
    "for p in pointlist1:\n",
    "    xp.append(p.x)\n",
    "    yp.append(p.y)\n",
    "    \n",
    "for a in pointlist2:\n",
    "    xq.append(a.x)\n",
    "    yq.append(a.y)\n",
    "\n",
    "checkIntersection(p1,q1,p2,q2)\n",
    "if(intersectionresult==True):  \n",
    "    if(improper==False):\n",
    "        plt.xlabel(\"Proper Intersection\")\n",
    "    else:\n",
    "        plt.xlabel(\"Improper Intersection\")\n",
    "else:\n",
    "    plt.xlabel(\"Line Segments do not Intersect\")\n",
    "\n",
    "plt.plot(xp,yp,label=\"segment 1\")\n",
    "plt.plot(xq,yq,label=\"segment 2\")\n",
    "plt.legend()\n",
    "plt.show()\n",
    "\n",
    " \n"
   ]
  },
  {
   "cell_type": "code",
   "execution_count": null,
   "metadata": {},
   "outputs": [],
   "source": []
  }
 ],
 "metadata": {
  "kernelspec": {
   "display_name": "Python 3",
   "language": "python",
   "name": "python3"
  },
  "language_info": {
   "codemirror_mode": {
    "name": "ipython",
    "version": 3
   },
   "file_extension": ".py",
   "mimetype": "text/x-python",
   "name": "python",
   "nbconvert_exporter": "python",
   "pygments_lexer": "ipython3",
   "version": "3.7.6"
  }
 },
 "nbformat": 4,
 "nbformat_minor": 4
}
